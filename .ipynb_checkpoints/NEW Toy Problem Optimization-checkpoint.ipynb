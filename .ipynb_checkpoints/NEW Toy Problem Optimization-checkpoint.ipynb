{
 "cells": [
  {
   "cell_type": "markdown",
   "metadata": {},
   "source": [
    "# Toy Problem Optimization\n",
    "\n",
    "This notebook explores what happens when you take the two-link rope toy problem and pull the rope to the right"
   ]
  },
  {
   "cell_type": "code",
   "execution_count": 1,
   "metadata": {},
   "outputs": [
    {
     "name": "stdout",
     "output_type": "stream",
     "text": [
      "importing Jupyter notebook from toy_problem_optimization_common.ipynb\n"
     ]
    }
   ],
   "source": [
    "import notebook_finder\n",
    "import numpy as np\n",
    "import matplotlib.pyplot as plt\n",
    "np.set_printoptions(suppress=True, precision=2)\n",
    "import scipy.optimize as optimize\n",
    "import toy_problem_optimization_common as tpo"
   ]
  },
  {
   "cell_type": "markdown",
   "metadata": {},
   "source": [
    "### Define goal\n",
    "\n",
    "Our goal will be denoted as $g$, for now we simply assume its defined in the full state space"
   ]
  },
  {
   "cell_type": "code",
   "execution_count": 2,
   "metadata": {
    "scrolled": true
   },
   "outputs": [],
   "source": [
    "g = np.array([[5], [0], [6], [0]])"
   ]
  },
  {
   "cell_type": "markdown",
   "metadata": {},
   "source": [
    "# Manual Data\n",
    "\n",
    "Let's pretend our data comes from pulling a 2-link object to the right for 6 time steps"
   ]
  },
  {
   "cell_type": "code",
   "execution_count": 3,
   "metadata": {
    "scrolled": true
   },
   "outputs": [],
   "source": [
    "manual_data = []\n",
    "for _ in range(100):\n",
    "    y = 0 #np.random.randint(-10,10)\n",
    "    i = np.random.randint(-5,5)\n",
    "    # Training data looks like [(s_t, u_t, s_{t+1}, c_t, c_{t+1})]\n",
    "    manual_data.append((np.array([[i],[y],[i+1],[y]]),\n",
    "         np.array([[1],[0]]),\n",
    "         np.array([[i+1],[y],[i+2],[y]]),\n",
    "         np.array([[(g[0] - i)**2]]),\n",
    "         np.array([[(g[0] - i+1)**2]])))"
   ]
  },
  {
   "cell_type": "markdown",
   "metadata": {},
   "source": [
    "### How well do Random Parameters Do (on average)"
   ]
  },
  {
   "cell_type": "code",
   "execution_count": 4,
   "metadata": {
    "scrolled": true
   },
   "outputs": [
    {
     "name": "stdout",
     "output_type": "stream",
     "text": [
      "Median cost for random parameters 709.291\n"
     ]
    }
   ],
   "source": [
    "N = 1000\n",
    "costs = np.zeros(N)\n",
    "for i in range(N):\n",
    "    random_params = np.random.randn(8)\n",
    "    costs[i] = tpo.latent_prediction_objective(random_params, g, manual_data, alpha=0.5)\n",
    "print(\"Median cost for random parameters {:.3f}\".format(np.median(costs)))"
   ]
  },
  {
   "cell_type": "markdown",
   "metadata": {},
   "source": [
    "### Test Objective Function\n",
    "\n",
    "To double check my objective function, let's make sure that my hand-designed model reductions give zero in the objective function:"
   ]
  },
  {
   "cell_type": "code",
   "execution_count": 5,
   "metadata": {
    "scrolled": true
   },
   "outputs": [
    {
     "name": "stdout",
     "output_type": "stream",
     "text": [
      "loss for hand-designed good params: 0.0\n",
      "loss for hand-designed bad params: 614.1475\n"
     ]
    }
   ],
   "source": [
    "my_params = np.array([1, 0, 0, 0, 0, 1, 0, 1])\n",
    "print(\"loss for hand-designed good params:\", tpo.latent_prediction_objective(my_params, g, data=manual_data, alpha=0.5))\n",
    "\n",
    "my_params = np.array([0, 1, 0, 0, 0, 1, 0, 1])\n",
    "print(\"loss for hand-designed bad params:\", tpo.latent_prediction_objective(my_params, g, data=manual_data, alpha=0.5))"
   ]
  },
  {
   "cell_type": "code",
   "execution_count": 6,
   "metadata": {
    "scrolled": true
   },
   "outputs": [
    {
     "name": "stdout",
     "output_type": "stream",
     "text": [
      "Finished in 6 iterations\n"
     ]
    }
   ],
   "source": [
    "params = tpo.train(manual_data, g, tpo.latent_prediction_objective, alpha=0.5)"
   ]
  },
  {
   "cell_type": "code",
   "execution_count": 9,
   "metadata": {
    "scrolled": false
   },
   "outputs": [
    {
     "name": "stdout",
     "output_type": "stream",
     "text": [
      "Objective Cost/Loss: 2.2007702362427152e-26\n",
      "Model reduction Matrix: [[  -0.65 6505.29    0.66 6505.1 ]]\n",
      "Dynamics Matrix: [[0.]] , [[   0.   6503.53]]\n",
      "Cost Matrix: [[44942.97]]\n"
     ]
    }
   ],
   "source": [
    "print(\"Objective Cost/Loss:\", tpo.latent_prediction_objective(params, g, manual_data, alpha=0.5))\n",
    "A, B, C, D = tpo.params_to_matrices(params)\n",
    "print(\"Model reduction Matrix:\", A)\n",
    "print(\"Dynamics Matrix:\", B, ',', C)\n",
    "print(\"Cost Matrix:\", D)"
   ]
  },
  {
   "cell_type": "markdown",
   "metadata": {},
   "source": [
    "### We can now perfectly predict future latent state and cost\n",
    "\n",
    "Consider what happens if we follow a plan of pulling right from the origin\n",
    "What is the predicted cost of the plan $[[1,0], \\dots]$ ? In the real world, the sum of cost at each state is $5^2+4^2+3^2+2^2+1^2=55$"
   ]
  },
  {
   "cell_type": "code",
   "execution_count": 10,
   "metadata": {
    "scrolled": true
   },
   "outputs": [
    {
     "name": "stdout",
     "output_type": "stream",
     "text": [
      "[[55.]]\n"
     ]
    }
   ],
   "source": [
    "actions = [np.array([[1],[0]]), np.array([[1],[0]]),np.array([[1],[0]]),np.array([[1],[0]]),np.array([[1],[0]])]\n",
    "s0 = np.array([[0], [0], [1], [0]])\n",
    "o = A@s0\n",
    "predicted_total_cost = 0\n",
    "for i, u in enumerate(actions):\n",
    "    o_ = o + B@o + C@u\n",
    "    c_hat = (A@g - o).T@D@(A@g - o)\n",
    "    predicted_total_cost += c_hat\n",
    "    o = o_\n",
    "print(predicted_total_cost)"
   ]
  },
  {
   "cell_type": "markdown",
   "metadata": {},
   "source": [
    "Ok great! **We can perfectly predict the future latent state and cost!**"
   ]
  },
  {
   "cell_type": "markdown",
   "metadata": {},
   "source": [
    "### What if we only consider cost, and predicting cost?"
   ]
  },
  {
   "cell_type": "code",
   "execution_count": 11,
   "metadata": {
    "scrolled": true
   },
   "outputs": [
    {
     "name": "stdout",
     "output_type": "stream",
     "text": [
      "loss for hand-designed good params: 0.0\n",
      "loss for hand-designed bad params: 614.1475\n"
     ]
    }
   ],
   "source": [
    "my_params = np.array([1, 0, 0, 0, 0, 1, 0, 1])\n",
    "print(\"loss for hand-designed good params:\",\n",
    "      tpo.one_step_cost_prediction_objective(my_params, g, data=manual_data, alpha=0.5))\n",
    "\n",
    "my_params = np.array([0, 1, 0, 0, 0, 1, 0, 1])\n",
    "print(\"loss for hand-designed bad params:\",\n",
    "      tpo.one_step_cost_prediction_objective(my_params, g, data=manual_data, alpha=0.5))"
   ]
  },
  {
   "cell_type": "code",
   "execution_count": 13,
   "metadata": {
    "scrolled": true
   },
   "outputs": [
    {
     "name": "stdout",
     "output_type": "stream",
     "text": [
      "Finished in 16 iterations\n"
     ]
    }
   ],
   "source": [
    "params = tpo.train(manual_data, g, tpo.one_step_cost_prediction_objective)"
   ]
  },
  {
   "cell_type": "code",
   "execution_count": 15,
   "metadata": {
    "scrolled": false
   },
   "outputs": [
    {
     "name": "stdout",
     "output_type": "stream",
     "text": [
      "Prediction Objective: 2.2138140726652556e-24\n",
      "Cost-Only Objective: 7.369598540830801e-19\n",
      "Model reduction Matrix: [[  0.73 955.06  -0.72 954.01]]\n",
      "Dynamics Matrix: [[-0.]] , [[  0.02 954.08]]\n",
      "Cost Matrix: [[3246.83]]\n"
     ]
    }
   ],
   "source": [
    "print(\"Prediction Objective:\", tpo.latent_prediction_objective(params, g, manual_data, alpha=0.5))\n",
    "print(\"Cost-Only Objective:\", tpo.one_step_cost_prediction_objective(params, g, manual_data, alpha=0.5))\n",
    "A, B, C, D = tpo.params_to_matrices(params)\n",
    "print(\"Model reduction Matrix:\", A)\n",
    "print(\"Dynamics Matrix:\", B, ',', C)\n",
    "print(\"Cost Matrix:\", D)"
   ]
  },
  {
   "cell_type": "markdown",
   "metadata": {},
   "source": [
    "Unsurprisingly, we are also able to fit our data in this case. Much more interestingly, **We also get latent state prediction accuracy for free, just by predicting in cost!**"
   ]
  },
  {
   "cell_type": "markdown",
   "metadata": {},
   "source": [
    "# What if the data is more diverse?\n",
    "\n",
    "What if we include various y values?"
   ]
  },
  {
   "cell_type": "code",
   "execution_count": 16,
   "metadata": {
    "scrolled": true
   },
   "outputs": [],
   "source": [
    "manual_data = []\n",
    "for _ in range(100):\n",
    "    y = np.random.randint(-10,10)\n",
    "    i = np.random.randint(-5,5)\n",
    "    manual_data.append((np.array([[i],[y],[i+1],[y]]),\n",
    "         np.array([[1],[0]]),\n",
    "         np.array([[i+1],[y],[i+2],[y]]),\n",
    "         np.array([[(g[0] - i)**2]]),\n",
    "         np.array([[(g[0] - i+1)**2]])))"
   ]
  },
  {
   "cell_type": "code",
   "execution_count": 18,
   "metadata": {
    "scrolled": true
   },
   "outputs": [
    {
     "name": "stdout",
     "output_type": "stream",
     "text": [
      "loss for hand-designed good params: 0.0\n",
      "loss for hand-designed bad params: 503.7875\n"
     ]
    }
   ],
   "source": [
    "my_params = np.array([1, 0, 0, 0, 0, 1, 0, 1])\n",
    "print(\"loss for hand-designed good params:\", tpo.latent_prediction_objective(my_params, g, data=manual_data, alpha=0.5))\n",
    "\n",
    "my_params = np.array([0, 1, 0, 0, 0, 1, 0, 1])\n",
    "print(\"loss for hand-designed bad params:\", tpo.latent_prediction_objective(my_params, g, data=manual_data, alpha=0.5))"
   ]
  },
  {
   "cell_type": "code",
   "execution_count": 20,
   "metadata": {
    "scrolled": true
   },
   "outputs": [
    {
     "name": "stdout",
     "output_type": "stream",
     "text": [
      "Finished in 8 iterations\n"
     ]
    }
   ],
   "source": [
    "params = tpo.train(manual_data, g, tpo.latent_prediction_objective)"
   ]
  },
  {
   "cell_type": "code",
   "execution_count": 22,
   "metadata": {
    "scrolled": false
   },
   "outputs": [
    {
     "name": "stdout",
     "output_type": "stream",
     "text": [
      "Objective Cost/Loss: 1.246410354439922e-20\n",
      "Model reduction Matrix: [[ 2.26 -0.   -0.92  0.  ]]\n",
      "Dynamics Matrix: [[-0.]] , [[ 1.34 21.96]]\n",
      "Cost Matrix: [[0.56]]\n"
     ]
    }
   ],
   "source": [
    "print(\"Objective Cost/Loss:\", tpo.latent_prediction_objective(params, g, manual_data, alpha=0.5))\n",
    "A, B, C, D = tpo.params_to_matrices(params)\n",
    "print(\"Model reduction Matrix:\", A)\n",
    "print(\"Dynamics Matrix:\", B, ',', C)\n",
    "print(\"Cost Matrix:\", D)"
   ]
  },
  {
   "cell_type": "markdown",
   "metadata": {},
   "source": [
    "Yup, still works. Although this data is not realistic to the motion of the links. This just shows that if we add a distractor variable which does not help explain the cost, we can still \"ignore it\". Specifically, the B matrix (just a real number here) is still 0 and the y components of the model reduction can be arbitrary values."
   ]
  },
  {
   "cell_type": "markdown",
   "metadata": {},
   "source": [
    "# Now with some data from Gazebo"
   ]
  },
  {
   "cell_type": "code",
   "execution_count": 27,
   "metadata": {},
   "outputs": [],
   "source": [
    "new_data = tpo.load_gazebo_data(\"/home/pmitrano/catkin_ws/src/link_bot/link_bot_teleop/data/fwd_1.txt\", g)"
   ]
  },
  {
   "cell_type": "code",
   "execution_count": 28,
   "metadata": {
    "scrolled": false
   },
   "outputs": [
    {
     "data": {
      "image/png": "[encoded data removed]",
      "text/plain": [
       "<Figure size 432x288 with 1 Axes>"
      ]
     },
     "metadata": {
      "needs_background": "light"
     },
     "output_type": "display_data"
    },
    {
     "data": {
      "image/png": "[encoded data removed]",
      "text/plain": [
       "<Figure size 432x288 with 1 Axes>"
      ]
     },
     "metadata": {
      "needs_background": "light"
     },
     "output_type": "display_data"
    },
    {
     "data": {
      "image/png": "[encoded data removed]",
      "text/plain": [
       "<Figure size 432x288 with 1 Axes>"
      ]
     },
     "metadata": {
      "needs_background": "light"
     },
     "output_type": "display_data"
    }
   ],
   "source": [
    "tpo.plot_gz_data(new_data)"
   ]
  },
  {
   "cell_type": "markdown",
   "metadata": {},
   "source": [
    "### See how our previous model reduction transfers\n",
    "\n",
    "To use the same models, the dimensionality of the input data must be the same."
   ]
  },
  {
   "cell_type": "code",
   "execution_count": 30,
   "metadata": {
    "scrolled": false
   },
   "outputs": [
    {
     "name": "stdout",
     "output_type": "stream",
     "text": [
      "Objective Cost/Loss transfering to more complicated simulation: 0.5082073834068995\n"
     ]
    }
   ],
   "source": [
    "print(\"Objective Cost/Loss transfering to more complicated simulation:\",\n",
    "      tpo.latent_prediction_objective(params, g, new_data, alpha=0.5))"
   ]
  },
  {
   "cell_type": "markdown",
   "metadata": {},
   "source": [
    "### Show that our hand-designed parameters still work well"
   ]
  },
  {
   "cell_type": "code",
   "execution_count": 31,
   "metadata": {},
   "outputs": [
    {
     "name": "stdout",
     "output_type": "stream",
     "text": [
      "Objective Cost/Loss: 2.6472522881450943e-05\n"
     ]
    }
   ],
   "source": [
    "my_params = np.array([1, 0, 0, 0, 0, 0.1, 0, 1])\n",
    "print(\"Objective Cost/Loss:\", tpo.latent_prediction_objective(my_params, g, new_data, alpha=0.5))"
   ]
  },
  {
   "cell_type": "markdown",
   "metadata": {},
   "source": [
    "### Try to optimize on our new data"
   ]
  },
  {
   "cell_type": "code",
   "execution_count": 32,
   "metadata": {
    "scrolled": true
   },
   "outputs": [
    {
     "name": "stdout",
     "output_type": "stream",
     "text": [
      "Finished in 40 iterations\n"
     ]
    }
   ],
   "source": [
    "params = tpo.train(new_data, g, tpo.latent_prediction_objective)"
   ]
  },
  {
   "cell_type": "code",
   "execution_count": 33,
   "metadata": {
    "scrolled": false
   },
   "outputs": [
    {
     "name": "stdout",
     "output_type": "stream",
     "text": [
      "Objective Cost/Loss: 3.99198575973929\n",
      "Model reduction Matrix: [[    -0.2  -55429.18      0.22 877998.99]]\n",
      "Dynamics Matrix: [[-0.13]] , [[ -0.04 118.4 ]]\n",
      "Cost Matrix: [[23.61]]\n"
     ]
    }
   ],
   "source": [
    "print(\"Objective Cost/Loss:\", tpo.latent_prediction_objective(params, g, new_data, alpha=0.5))\n",
    "A, B, C, D = tpo.params_to_matrices(params)\n",
    "print(\"Model reduction Matrix:\", A)\n",
    "print(\"Dynamics Matrix:\", B, ',', C)\n",
    "print(\"Cost Matrix:\", D)"
   ]
  },
  {
   "cell_type": "markdown",
   "metadata": {},
   "source": [
    "### Performance on Gazebo data may not be quite as good\n",
    "\n",
    "So there are two issues here. First, the control equation is not actually linear anymore. This is because in this gazebo data the links are accelerating, so their delta x position cannot be computed as $v_x*\\Delta t$ anymore. This would explain why the hand specified parameters do not give as small of a loss (1e-5 versus 1e-20)\n",
    "\n",
    "There may be another issue which is that the optimizer finds are not as good as the manual parameters anymore. However, I cannot confirm whether this issue is statistically significant."
   ]
  }
 ],
 "metadata": {
  "kernelspec": {
   "display_name": "Python 3",
   "language": "python",
   "name": "python3"
  },
  "language_info": {
   "codemirror_mode": {
    "name": "ipython",
    "version": 3
   },
   "file_extension": ".py",
   "mimetype": "text/x-python",
   "name": "python",
   "nbconvert_exporter": "python",
   "pygments_lexer": "ipython3",
   "version": "3.5.2"
  }
 },
 "nbformat": 4,
 "nbformat_minor": 2
}
