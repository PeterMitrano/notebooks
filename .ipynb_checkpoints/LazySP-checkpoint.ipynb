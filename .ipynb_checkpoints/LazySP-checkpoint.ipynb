{
 "cells": [
  {
   "cell_type": "markdown",
   "metadata": {},
   "source": [
    "# LazySP"
   ]
  },
  {
   "cell_type": "code",
   "execution_count": 1,
   "metadata": {
    "scrolled": true
   },
   "outputs": [],
   "source": [
    "import numpy as np\n",
    "import matplotlib.pyplot as plt\n",
    "import heapq\n",
    "import time\n",
    "from copy import deepcopy\n",
    "from IPython import display\n",
    "np.random.seed(0)"
   ]
  },
  {
   "cell_type": "markdown",
   "metadata": {},
   "source": [
    "## Describe Environment & Graph"
   ]
  },
  {
   "cell_type": "code",
   "execution_count": 2,
   "metadata": {
    "scrolled": true
   },
   "outputs": [],
   "source": [
    "W = 100\n",
    "start = [5,5]\n",
    "goal = [95,95]\n",
    "step_size = 1\n",
    "obstacles = [[[10,10], [10,10]], [[20,50], [50,20]], [[65,30], [15,20]], [[30,20], [40,20]]]\n",
    "\n",
    "def h(n1, n2):\n",
    "    return np.linalg.norm(np.array(n1) - np.array(n2))\n",
    "\n",
    "# randomly select N points in the world\n",
    "res = 5\n",
    "graph = {}\n",
    "for x in range(0, W, res):\n",
    "    for y in range(0, W, res):\n",
    "        graph[(x, y)] = [(x-res, y), (x, y-res), (x+res, y), (x, y+res)]\n",
    "\n",
    "start = (10, 0)\n",
    "goal = (90, 90)"
   ]
  },
  {
   "cell_type": "code",
   "execution_count": 3,
   "metadata": {
    "scrolled": true
   },
   "outputs": [],
   "source": [
    "def plot(start, goal, path=None):\n",
    "    ax = plt.gca()\n",
    "    for o in obstacles:\n",
    "        rect = plt.Rectangle(o[0], width=o[1][0], height=o[1][1], fc='y')\n",
    "        ax.add_patch(rect)\n",
    "\n",
    "    if path:\n",
    "        xs = []\n",
    "        ys = []\n",
    "        for n in path:\n",
    "            xs.append(n[0])\n",
    "            ys.append(n[1])\n",
    "        plt.plot(xs, ys, c='r', linewidth=1)\n",
    "\n",
    "    ax.add_patch(plt.Circle(start, radius=1, fc='k'))\n",
    "    ax.add_patch(plt.Circle(goal, radius=1, fc='g'))\n",
    "\n",
    "    plt.xlim(0, W)\n",
    "    plt.ylim(0, W)\n",
    "    plt.axis('equal')\n",
    "    #plt.show()"
   ]
  },
  {
   "cell_type": "code",
   "execution_count": 8,
   "metadata": {},
   "outputs": [
    {
     "data": {
      "image/png": "[encoded data removed]",
      "text/plain": [
       "<Figure size 432x288 with 1 Axes>"
      ]
     },
     "metadata": {},
     "output_type": "display_data"
    }
   ],
   "source": [
    "plot(start, goal)"
   ]
  },
  {
   "cell_type": "markdown",
   "metadata": {},
   "source": [
    "## A Star"
   ]
  },
  {
   "cell_type": "code",
   "execution_count": 5,
   "metadata": {
    "scrolled": true
   },
   "outputs": [],
   "source": [
    "def reconstruct_path(came_from, current):\n",
    "    total_path = [current]\n",
    "    while current in came_from.keys():\n",
    "        current_ = came_from[current]\n",
    "        total_path.append(current_)\n",
    "        current = current_\n",
    "    return total_path[-1::-1]\n",
    "\n",
    "def find_shortest_path(graph, start, goal):\n",
    "    \"\"\"\n",
    "    graph: {(x1, y1): [(x2, y2), (x3,y3), ...], ...}\n",
    "    start: (x, y)\n",
    "    goal: (x, y)\n",
    "    \"\"\"\n",
    "    open_set = [start]\n",
    "    closed_set = []\n",
    "    came_from = {}\n",
    "    g = dict([(n, 1e9) for n in graph.keys()])\n",
    "    g[start] = 0\n",
    "    f = dict([(n, 1e9) for n in graph.keys()])\n",
    "    f[start] = h(start, goal)\n",
    "    \n",
    "    while len(open_set) != 0:\n",
    "        current = open_set[0]\n",
    "        for o in open_set:\n",
    "            if f[o] < f[current]:\n",
    "                current = o\n",
    "        open_set.remove(current)\n",
    "        \n",
    "        if current not in graph:\n",
    "            print(\"ERROR:\", current)\n",
    "            continue\n",
    "        \n",
    "        if current == goal:\n",
    "            return reconstruct_path(came_from, current)\n",
    "            \n",
    "        closed_set.append(current)\n",
    "        \n",
    "        for neighbor in graph[current]:\n",
    "            if neighbor in closed_set:\n",
    "                continue\n",
    "            tentative_g = g[current] + 1\n",
    "            if neighbor not in open_set:\n",
    "                open_set.append(neighbor)\n",
    "            elif g[neighbor] <= tentative_g:\n",
    "                continue\n",
    "                \n",
    "            g[neighbor] = tentative_g\n",
    "            f[neighbor] = g[neighbor] + h(neighbor, goal)\n",
    "            came_from[neighbor] = current"
   ]
  },
  {
   "cell_type": "markdown",
   "metadata": {},
   "source": [
    "## The Main Loop"
   ]
  },
  {
   "cell_type": "code",
   "execution_count": 7,
   "metadata": {
    "scrolled": false
   },
   "outputs": [
    {
     "data": {
      "image/png": "[encoded data removed]",
      "text/plain": [
       "<Figure size 576x576 with 1 Axes>"
      ]
     },
     "metadata": {},
     "output_type": "display_data"
    },
    {
     "name": "stdout",
     "output_type": "stream",
     "text": [
      "DONE!\n"
     ]
    },
    {
     "data": {
      "image/png": "[encoded data removed]",
      "text/plain": [
       "<Figure size 576x576 with 1 Axes>"
      ]
     },
     "metadata": {},
     "output_type": "display_data"
    }
   ],
   "source": [
    "def invalid_edge(p):\n",
    "    for o in obstacles:\n",
    "        nx = p[0]\n",
    "        ny = p[1]\n",
    "        ox1 = o[0][0]\n",
    "        oy1 = o[0][1]\n",
    "        ox2 = o[0][0] + o[1][0]\n",
    "        oy2 = o[0][1] + o[1][1]\n",
    "        if ox1 <= nx <= ox2 and oy1 <= ny <= oy2:\n",
    "            return True\n",
    "    return False\n",
    "\n",
    "n = start\n",
    "mutable_graph = deepcopy(graph)\n",
    "plt.figure(figsize=(8,8))\n",
    "while True:\n",
    "    # optimistically plan shortest path\n",
    "    path = find_shortest_path(mutable_graph, start, goal)\n",
    "    \n",
    "    # select an edge to remove\n",
    "    done = True\n",
    "    for i in range(len(path)-1):\n",
    "        n = path[i]\n",
    "        n_ = path[i+1]\n",
    "        if invalid_edge(n_):\n",
    "            # remove invalid edge!\n",
    "            mutable_graph[n].remove(n_)\n",
    "            done = False\n",
    "            break\n",
    "            \n",
    "    if done:\n",
    "        print(\"DONE!\")\n",
    "        break\n",
    "    \n",
    "    plt.clf()\n",
    "    plot(start, goal, path)\n",
    "    display.clear_output(wait=True)\n",
    "    display.display(plt.gcf())"
   ]
  },
  {
   "cell_type": "code",
   "execution_count": null,
   "metadata": {},
   "outputs": [],
   "source": []
  }
 ],
 "metadata": {
  "kernelspec": {
   "display_name": "Python 3",
   "language": "python",
   "name": "python3"
  },
  "language_info": {
   "codemirror_mode": {
    "name": "ipython",
    "version": 3
   },
   "file_extension": ".py",
   "mimetype": "text/x-python",
   "name": "python",
   "nbconvert_exporter": "python",
   "pygments_lexer": "ipython3",
   "version": "3.6.5"
  }
 },
 "nbformat": 4,
 "nbformat_minor": 2
}
