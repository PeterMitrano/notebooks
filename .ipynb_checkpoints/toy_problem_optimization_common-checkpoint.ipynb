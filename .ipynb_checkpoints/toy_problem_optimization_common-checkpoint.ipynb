{
 "cells": [
  {
   "cell_type": "code",
   "execution_count": 1,
   "metadata": {
    "scrolled": true
   },
   "outputs": [],
   "source": [
    "import numpy as np\n",
    "import matplotlib.pyplot as plt\n",
    "np.set_printoptions(suppress=True, precision=2)\n",
    "import scipy.optimize as optimize"
   ]
  },
  {
   "cell_type": "markdown",
   "metadata": {},
   "source": [
    "# Optimize Simple Models\n",
    "\n",
    "We assume linear forms for all our functions:\n",
    "\n",
    "$$\n",
    "\\begin{align}\n",
    "o_t &= As_t \\\\\n",
    "o_{t+1} &= o_t + Bo_t + Cu_t \\\\\n",
    "\\hat{c}(s_t) &= (Ag - As_t)^TD(Ag - As_t)\\\\\n",
    "\\end{align}\n",
    "$$"
   ]
  },
  {
   "cell_type": "code",
   "execution_count": 13,
   "metadata": {},
   "outputs": [],
   "source": [
    "class LinearStateSpaceModelWithQuadraticCost:\n",
    "    \n",
    "    def __init__(self, N, M, L):\n",
    "        \"\"\"\n",
    "        N: dimensionality of the full state\n",
    "        M: dimensionality in the reduced state\n",
    "        L: dimensionality in the actions\n",
    "        \"\"\"\n",
    "        self.N = N\n",
    "        self.M = M\n",
    "        self.L = L\n",
    "        self.A = np.ndarray((M, N))\n",
    "        self.B = np.ndarray((1, M))\n",
    "        self.C = np.ndarray((M, L))\n",
    "        self.D = np.ndarray((M, M))\n",
    "        \n",
    "    def size(self):\n",
    "        return self.A.size + self.B.size + self.C.size + self.D.size\n",
    "        \n",
    "    def from_matrices(self, A, B, C, D):\n",
    "        assert A.size == self.A.size\n",
    "        assert B.size == self.B.size\n",
    "        assert C.size == self.C.size\n",
    "        assert D.size == self.D.size\n",
    "        \n",
    "        self.A = A\n",
    "        self.B = B\n",
    "        self.C = C\n",
    "        self.D = D\n",
    "        \n",
    "    def from_params(self, params):\n",
    "        assert len(params) == self.size(), \"Expected {:d} params, fot {:d}\".format(self.size(), len(params))\n",
    "        params = np.array(params)\n",
    "        n_A = self.A.size\n",
    "        self.A = params[0:n_A].reshape(self.A.shape)\n",
    "        n_B = n_A + self.B.size\n",
    "        self.B = params[n_A:n_B].reshape(self.B.shape)\n",
    "        n_C = n_B + self.C.size\n",
    "        self.C = params[n_B:n_C].reshape(self.C.shape)\n",
    "        n_D = n_C + self.D.size\n",
    "        self.D = params[n_C:n_D].reshape(self.D.shape)\n",
    "    \n",
    "    def to_params(self):\n",
    "        return np.concatenate((self.A.flatten(),\n",
    "                               self.B.flatten(),\n",
    "                               self.C.flatten(),\n",
    "                               self.D.flatten()))\n",
    "    \n",
    "    def reduce(self, s):\n",
    "        return self.A@s\n",
    "\n",
    "    def predict_from_s(self, s, u):\n",
    "        o = self.A@s\n",
    "        o_ = o + (self.B@o + self.C@u)\n",
    "        return o_\n",
    "\n",
    "    def predict_from_o(self, o, u):\n",
    "        o_ = o + (self.B@o + self.C@u)\n",
    "        return o_\n",
    "\n",
    "    def cost_of_s(self, s, g):\n",
    "        o = self.A@s\n",
    "        o_g = self.A@g\n",
    "        return (o_g - o).T@self.D@(o_g - o)\n",
    "    \n",
    "    def cost_of_o(self, o, g):\n",
    "        o_g = self.A@g\n",
    "        return (o_g - o).T@self.D@(o_g - o)\n",
    "    \n",
    "    def print(self):\n",
    "        print(\"Model reduction Matrix:\", self.A)\n",
    "        print(\"Dynamics Matrices:\", self.B, ',', self.C)\n",
    "        print(\"Cost Matrix:\", self.D)"
   ]
  },
  {
   "cell_type": "code",
   "execution_count": 4,
   "metadata": {
    "scrolled": true
   },
   "outputs": [],
   "source": [
    "def train(data, model, goal, objective_func, **kwargs):\n",
    "    \"\"\"\n",
    "    mutates the model that was passed in\n",
    "    \"\"\"\n",
    "        \n",
    "    def __objective(params):\n",
    "        model.from_params(params)\n",
    "        return objective_func(model=model, g=goal, data=data, **kwargs)\n",
    "    \n",
    "    initial_params = np.random.randn(model.size())\n",
    "    result = optimize.minimize(__objective, initial_params, method='Powell')\n",
    "    \n",
    "    if not result.success:\n",
    "        print(\"Status: {:d}, Message: {:s}\".format(result.status, result.message))\n",
    "        return None\n",
    "    print('Finished in {:d} iterations'.format(result.nit))"
   ]
  },
  {
   "cell_type": "code",
   "execution_count": 6,
   "metadata": {},
   "outputs": [],
   "source": [
    "def latent_prediction_objective(model, g, data, alpha=0.5, regularization=1e-3):\n",
    "    \"\"\" return: MSE over all training examples \"\"\"\n",
    "    err = np.zeros(len(data))\n",
    "    for i, (s, u, s_, c, c_) in enumerate(data):\n",
    "        latent_prediction_accuracy = np.linalg.norm(model.predict_from_s(s, u) - model.reduce(s_))\n",
    "        current_cost_accuracy = abs(model.cost_of_s(s, g) - c)\n",
    "        err[i] = (1 - alpha) * current_cost_accuracy \\\n",
    "                + alpha * latent_prediction_accuracy \\\n",
    "                + regularization * np.linalg.norm(model.to_params())\n",
    "        \n",
    "    obj = (err**2).mean()\n",
    "    return obj"
   ]
  },
  {
   "cell_type": "code",
   "execution_count": 5,
   "metadata": {
    "scrolled": true
   },
   "outputs": [],
   "source": [
    "def one_step_cost_prediction_objective(model, g, data, alpha=0.5, regularization=1e-3):\n",
    "    \"\"\" return: MSE over all training examples \"\"\"\n",
    "    err = np.zeros(len(data))\n",
    "    for i, (s, u, s_, c, c_) in enumerate(data):\n",
    "        predicted_cost_accuracy = np.linalg.norm(model.cost_of_o(model.predict_from_s(s, u), g) - model.cost_of_s(s_, g))\n",
    "        current_cost_accuracy = abs(model.cost_of_s(s, g) - c)\n",
    "        err[i] = (1 - alpha) * current_cost_accuracy \\\n",
    "                + alpha * predicted_cost_accuracy \\\n",
    "                + regularization * np.linalg.norm(model.to_params())\n",
    "        \n",
    "    obj = (err**2).mean()\n",
    "    return obj"
   ]
  },
  {
   "cell_type": "markdown",
   "metadata": {},
   "source": [
    "# Functions for handling Gazebo data"
   ]
  },
  {
   "cell_type": "code",
   "execution_count": 6,
   "metadata": {
    "scrolled": true
   },
   "outputs": [],
   "source": [
    "# Load some test data\n",
    "def load_gazebo_data(log_file ,g):\n",
    "    log_data = np.loadtxt(log_file)\n",
    "    new_data = []\n",
    "    for i in range(log_data.shape[0] - 1):\n",
    "        s = np.expand_dims(log_data[i][0:4], axis=1)\n",
    "        s_ = np.expand_dims(log_data[i+1][0:4], axis=1)\n",
    "        u = np.expand_dims(log_data[i][4:6], axis=1)\n",
    "         # NOTE: we are now using quadratic cost here!\n",
    "        c = (log_data[i][0] - g[0])**2 + (log_data[i][1] - g[1])**2\n",
    "        c_ = (log_data[i+1][0] - g[0])**2 + (log_data[i+1][1] - g[1])**2\n",
    "        new_datum = [s, u, s_, c, c_]\n",
    "        new_data.append(new_datum)\n",
    "    return new_data"
   ]
  },
  {
   "cell_type": "code",
   "execution_count": 7,
   "metadata": {
    "scrolled": false
   },
   "outputs": [],
   "source": [
    "def plot_gz_data(new_data):\n",
    "    plt.figure()\n",
    "    plt.title(r\"Full State ($s$)\")\n",
    "    plt.plot([s[0][0,0] for s in new_data], label='x1')\n",
    "    plt.plot([s[0][1,0] for s in new_data], label='y1')\n",
    "    plt.plot([s[0][2,0] for s in new_data], label='x2')\n",
    "    plt.plot([s[0][3,0] for s in new_data], label='y2')\n",
    "    plt.ylabel(\"meters\")\n",
    "    plt.xlabel(\"time (s)\")\n",
    "    plt.legend();\n",
    "\n",
    "    plt.figure()\n",
    "    plt.title(r\"Control Input ($u$)\")\n",
    "    plt.plot([s[1][0,0] for s in new_data], label='vx')\n",
    "    plt.plot([s[1][1,0] for s in new_data], label='vy')\n",
    "    plt.ylabel(\"m/s\")\n",
    "    plt.xlabel(\"time (s)\")\n",
    "    plt.legend();\n",
    "\n",
    "    plt.figure()\n",
    "    plt.title(r\"Cost ($c$)\")\n",
    "    plt.plot([s[4] for s in new_data])\n",
    "    plt.xlabel(\"time (s)\");\n",
    "    \n",
    "    plt.show()"
   ]
  },
  {
   "cell_type": "markdown",
   "metadata": {},
   "source": [
    "# Animation Functions"
   ]
  },
  {
   "cell_type": "code",
   "execution_count": 8,
   "metadata": {},
   "outputs": [],
   "source": [
    "import imageio\n",
    "\n",
    "def animate_prediction(params, s_0, u):\n",
    "    o = reduce_from_params(params, s_0)\n",
    "    \n",
    "    print(o.shape)\n",
    "    \n",
    "    images = []\n",
    "    for u_t in u:\n",
    "        o = predict_next_o(params, s)\n",
    "        \n",
    "        images.append(img)\n",
    "        \n",
    "    temp_filename = '/tmp/temp.gif'\n",
    "    imageio.mimsave(temp_filename, images)\n",
    "    from IPython.display import Image\n",
    "    Image(filename=temp_filename) "
   ]
  }
 ],
 "metadata": {
  "kernelspec": {
   "display_name": "Python 3",
   "language": "python",
   "name": "python3"
  },
  "language_info": {
   "codemirror_mode": {
    "name": "ipython",
    "version": 3
   },
   "file_extension": ".py",
   "mimetype": "text/x-python",
   "name": "python",
   "nbconvert_exporter": "python",
   "pygments_lexer": "ipython3",
   "version": "3.5.2"
  }
 },
 "nbformat": 4,
 "nbformat_minor": 2
}
