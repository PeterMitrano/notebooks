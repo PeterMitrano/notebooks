{
 "cells": [
  {
   "cell_type": "code",
   "execution_count": 16,
   "metadata": {},
   "outputs": [],
   "source": [
    "import numpy as np\n",
    "import matplotlib.pyplot as plt\n",
    "np.set_printoptions(suppress=True, precision=2)\n",
    "import scipy.optimize as optimize"
   ]
  },
  {
   "cell_type": "markdown",
   "metadata": {},
   "source": [
    "# Define goal\n",
    "\n",
    "Our goal will be denoted as $g$, for now we simply assume its defined in the full state space"
   ]
  },
  {
   "cell_type": "code",
   "execution_count": 17,
   "metadata": {},
   "outputs": [],
   "source": [
    "g = np.array([5, 0, 6, 0, 7, 0])"
   ]
  },
  {
   "cell_type": "markdown",
   "metadata": {},
   "source": [
    "# Collect Initial Data\n",
    "\n",
    "Let's pretend our data comes from pulling a 2-link object to the right for 6 time steps"
   ]
  },
  {
   "cell_type": "code",
   "execution_count": 106,
   "metadata": {},
   "outputs": [],
   "source": [
    "training_data = [\n",
    "        (np.array([[i],[0],[i+1],[0],[i+2],[0]]),\n",
    "         np.array([[1],[0]]),\n",
    "         np.array([[i+1],[0],[i+2],[0],[i+3],[0]]),\n",
    "         np.array([[g[0] - i]])) for i in range(6)]"
   ]
  },
  {
   "cell_type": "markdown",
   "metadata": {},
   "source": [
    "# Optimize Linear Models\n",
    "\n",
    "We assume linear forms for all our functions:\n",
    "$\n",
    "\\begin{align}\n",
    "f(s_t) &= As_t \\\\\n",
    "f(s_t) &= Bo + Cu \\\\\n",
    "\\hat{c}(s_t) &= Ds_t \\\\\n",
    "\\end{align}\n",
    "$"
   ]
  },
  {
   "cell_type": "code",
   "execution_count": 129,
   "metadata": {},
   "outputs": [],
   "source": [
    "def params_to_matrices(params):\n",
    "    a1 = params[0]\n",
    "    a2 = params[1]\n",
    "    a3 = params[2]\n",
    "    a4 = params[3]\n",
    "    a5 = params[4]\n",
    "    a6 = params[5]\n",
    "    b = params[6]\n",
    "    c1 = params[7]\n",
    "    c2 = params[8]\n",
    "    d = params[9]\n",
    "\n",
    "    A = np.array([[a1, a2, a3, a4, a5, a6]])\n",
    "    B = np.array([[b]])\n",
    "    C = np.array([[c1, c2]])\n",
    "    D = np.array([[d]])\n",
    "    return A, B, C, D\n",
    "\n",
    "def train(training_data):\n",
    "    \"\"\"\n",
    "    param training_data: a list of tuples ([6x1], [2x1], [6x1], [1x1])\n",
    "    \"\"\"\n",
    "        \n",
    "    def objective(params):\n",
    "        \"\"\" return: MSE over all training examples \"\"\"\n",
    "        A, B, C, D = params_to_matrices(params)\n",
    "        \n",
    "        err = np.zeros(len(training_data))\n",
    "        for i, (s, u, s_, c) in enumerate(training_data):\n",
    "            err[i] = np.linalg.norm(A@s + (B@A@s + C@u) - A@s_) + 10*abs(D@A@s - c)\n",
    "        \n",
    "        obj = (err**2).mean()\n",
    "        return obj\n",
    "    \n",
    "    for i in range(10):\n",
    "        result = optimize.minimize(objective, np.random.randn(10), method='Nelder-Mead')\n",
    "        if result.success:\n",
    "            break\n",
    "    \n",
    "    if not result.success:\n",
    "        print(\"Status: {:d}, Message: {:s}\".format(result.status, result.message))\n",
    "        return None\n",
    "    \n",
    "    return result.x"
   ]
  },
  {
   "cell_type": "code",
   "execution_count": 130,
   "metadata": {},
   "outputs": [
    {
     "name": "stdout",
     "output_type": "stream",
     "text": [
      "[[ 2.11  0.14  0.13  0.02 -1.61  0.07]]\n",
      "[[-0.32]]\n",
      "[[-0.86 -1.39]]\n",
      "[[-1.61]]\n"
     ]
    }
   ],
   "source": [
    "params = train(training_data)\n",
    "A, B, C, D = params_to_matrices(params)\n",
    "print(A)\n",
    "print(B)\n",
    "print(C)\n",
    "print(D)"
   ]
  },
  {
   "cell_type": "markdown",
   "metadata": {},
   "source": [
    "# Check if the matrices we solved for successfully minimize the error\n",
    "\n",
    "What is the predicted cost of the plan $[[1,0], \\dots]$"
   ]
  },
  {
   "cell_type": "code",
   "execution_count": 131,
   "metadata": {},
   "outputs": [
    {
     "name": "stdout",
     "output_type": "stream",
     "text": [
      "[[-3.1]] [[5.]]\n",
      "[[-205.04]] [[330.8]]\n",
      "[[-140.23]] [[226.24]]\n",
      "[[-96.18]] [[155.17]]\n",
      "[[-66.24]] [[106.86]]\n"
     ]
    }
   ],
   "source": [
    "actions = [np.array([[1],[0]]), np.array([[1],[0]]),np.array([[1],[0]]),np.array([[1],[0]]),np.array([[1],[0]])]\n",
    "s0 = np.array([[0], [0], [1], [0], [2], [0]])\n",
    "o = A@s0\n",
    "for i, u in enumerate(actions):\n",
    "    o_ += B@o + C@u\n",
    "    c_hat = D@o\n",
    "    print(o, c_hat)\n",
    "    o = o_"
   ]
  },
  {
   "cell_type": "code",
   "execution_count": 132,
   "metadata": {},
   "outputs": [
    {
     "name": "stdout",
     "output_type": "stream",
     "text": [
      "================\n",
      "[[0 0 1 0 2 0]]\n",
      "[[1 0]]\n",
      "[[1 0 2 0 3 0]]\n",
      "[[5]]\n",
      "[[-3.1]]\n",
      "[[17.25]]\n",
      "[[-2.48]]\n",
      "[[5.]]\n",
      "================\n",
      "[[1 0 2 0 3 0]]\n",
      "[[1 0]]\n",
      "[[2 0 3 0 4 0]]\n",
      "[[4]]\n",
      "[[-2.48]]\n",
      "[[17.87]]\n",
      "[[-1.86]]\n",
      "[[4.]]\n",
      "================\n",
      "[[2 0 3 0 4 0]]\n",
      "[[1 0]]\n",
      "[[3 0 4 0 5 0]]\n",
      "[[3]]\n",
      "[[-1.86]]\n",
      "[[18.49]]\n",
      "[[-1.24]]\n",
      "[[3.]]\n",
      "================\n",
      "[[3 0 4 0 5 0]]\n",
      "[[1 0]]\n",
      "[[4 0 5 0 6 0]]\n",
      "[[2]]\n",
      "[[-1.24]]\n",
      "[[19.11]]\n",
      "[[-0.62]]\n",
      "[[2.]]\n",
      "================\n",
      "[[4 0 5 0 6 0]]\n",
      "[[1 0]]\n",
      "[[5 0 6 0 7 0]]\n",
      "[[1]]\n",
      "[[-0.62]]\n",
      "[[19.73]]\n",
      "[[-0.]]\n",
      "[[1.]]\n",
      "================\n",
      "[[5 0 6 0 7 0]]\n",
      "[[1 0]]\n",
      "[[6 0 7 0 8 0]]\n",
      "[[0]]\n",
      "[[-0.]]\n",
      "[[20.35]]\n",
      "[[0.62]]\n",
      "[[0.]]\n"
     ]
    }
   ],
   "source": [
    "for i, (s, u, s_, c) in enumerate(training_data):\n",
    "    print(\"================\")\n",
    "    print(s.T)\n",
    "    print(u.T)\n",
    "    print(s_.T)\n",
    "    print(c)\n",
    "    print(A@s)\n",
    "    print(A@s + B@o + C@u)\n",
    "    print(A@s_)\n",
    "    print(D@A@s)"
   ]
  }
 ],
 "metadata": {
  "kernelspec": {
   "display_name": "Python 3",
   "language": "python",
   "name": "python3"
  },
  "language_info": {
   "codemirror_mode": {
    "name": "ipython",
    "version": 3
   },
   "file_extension": ".py",
   "mimetype": "text/x-python",
   "name": "python",
   "nbconvert_exporter": "python",
   "pygments_lexer": "ipython3",
   "version": "3.6.5"
  }
 },
 "nbformat": 4,
 "nbformat_minor": 2
}
