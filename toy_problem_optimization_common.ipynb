{
 "cells": [
  {
   "cell_type": "code",
   "execution_count": 1,
   "metadata": {
    "scrolled": true
   },
   "outputs": [],
   "source": [
    "import numpy as np\n",
    "import matplotlib.pyplot as plt\n",
    "np.set_printoptions(suppress=True, precision=2)\n",
    "import scipy.optimize as optimize"
   ]
  },
  {
   "cell_type": "markdown",
   "metadata": {},
   "source": [
    "# Optimize Simple Models\n",
    "\n",
    "We assume linear forms for all our functions:\n",
    "$\n",
    "\\begin{align}\n",
    "f(s_t) &= As_t \\\\\n",
    "f(s_t) &= Bo_t + Cu_t \\\\\n",
    "\\hat{c}(s_t) &= (Ag - o_t)^TD(Ag - As_t) = (Ag - o_t)^TD(Ag - o_t)\\\\\n",
    "\\end{align}\n",
    "$"
   ]
  },
  {
   "cell_type": "code",
   "execution_count": 2,
   "metadata": {
    "scrolled": true
   },
   "outputs": [],
   "source": [
    "def train(manual_data, objective_func, **kwargs):\n",
    "    \"\"\"\n",
    "    param manual_data: a list of tuples ([6x1], [2x1], [6x1], [1x1])\n",
    "    \"\"\"\n",
    "        \n",
    "    def __objective(params):\n",
    "        return objective_func(params, manual_data, **kwargs)\n",
    "    \n",
    "    initial_params = np.random.randn(10)\n",
    "    result = optimize.minimize(__objective, initial_params, method='Powell')\n",
    "    \n",
    "    if not result.success:\n",
    "        print(\"Status: {:d}, Message: {:s}\".format(result.status, result.message))\n",
    "        return None\n",
    "    print('Finished in {:d} iterations'.format(result.nit))\n",
    "    return result.x"
   ]
  },
  {
   "cell_type": "code",
   "execution_count": 3,
   "metadata": {
    "scrolled": true
   },
   "outputs": [],
   "source": [
    "def params_to_matrices(params):\n",
    "    a1 = params[0]\n",
    "    a2 = params[1]\n",
    "    a3 = params[2]\n",
    "    a4 = params[3]\n",
    "    b = params[4]\n",
    "    c1 = params[5]\n",
    "    c2 = params[6]\n",
    "    d = params[7]\n",
    "\n",
    "    A = np.array([[a1, a2, a3, a4]])\n",
    "    B = np.array([[b]])\n",
    "    C = np.array([[c1, c2]])\n",
    "    D = np.array([[d]])\n",
    "    return A, B, C, D"
   ]
  },
  {
   "cell_type": "code",
   "execution_count": 4,
   "metadata": {},
   "outputs": [],
   "source": [
    "def latent_prediction_objective(params, data, alpha=0.5, regularization=0):\n",
    "    \"\"\" return: MSE over all training examples \"\"\"\n",
    "    A, B, C, D = params_to_matrices(params)\n",
    "\n",
    "    err = np.zeros(len(data))\n",
    "    for i, (s, u, s_, c, c_) in enumerate(data):\n",
    "        o = A@s\n",
    "        o_ = A@s_\n",
    "        o_g = A@g\n",
    "        err[i] = alpha*np.linalg.norm(o + (B@o + C@u) - o_) + (1-alpha)*abs((o_g-o).T@D@(o_g-o) - c) + regularization * np.linalg.norm(A)\n",
    "\n",
    "    obj = (err**2).mean()\n",
    "    return obj"
   ]
  },
  {
   "cell_type": "code",
   "execution_count": 5,
   "metadata": {
    "scrolled": true
   },
   "outputs": [],
   "source": [
    "def one_step_cost_prediction_objective(params, data, alpha=0.5, regularization=0):\n",
    "    \"\"\" return: MSE over all training examples \"\"\"\n",
    "    A, B, C, D = params_to_matrices(params)\n",
    "    \n",
    "    def _cost(_o):\n",
    "            return (o_g - _o).T@D@(o_g - _o)\n",
    "\n",
    "    err = np.zeros(len(data))\n",
    "    for i, (s, u, s_, c, c_) in enumerate(data):\n",
    "        o = A@s\n",
    "        o_ = A@s_\n",
    "        o_g = A@g\n",
    "        predicted_o_  = o + B@o + C@u\n",
    "        one_step_predicted_cost_accuracy = np.linalg.norm(_cost(predicted_o_) - _cost(o_))\n",
    "        current_cost_accuracy = abs(_cost(o) - c)\n",
    "        err[i] = (1-alpha)*current_cost_accuracy + alpha * one_step_predicted_cost_accuracy + regularization * np.linalg.norm(A)\n",
    "        \n",
    "    obj = (err**2).mean()\n",
    "    return obj"
   ]
  },
  {
   "cell_type": "markdown",
   "metadata": {},
   "source": [
    "# Functions for handling Gazebo data"
   ]
  },
  {
   "cell_type": "code",
   "execution_count": 6,
   "metadata": {
    "scrolled": true
   },
   "outputs": [],
   "source": [
    "# Load some test data\n",
    "def load_gazebo_data(log_file):\n",
    "    log_data = np.loadtxt(log_file)\n",
    "    new_data = []\n",
    "    for i in range(log_data.shape[0] - 1):\n",
    "        s = np.expand_dims(log_data[i][0:4], axis=1)\n",
    "        s_ = np.expand_dims(log_data[i+1][0:4], axis=1)\n",
    "        u = np.expand_dims(log_data[i][4:6], axis=1)\n",
    "         # NOTE: we are now using quadratic cost here!\n",
    "        c = (log_data[i][0] - g[0])**2 + (log_data[i][1] - g[1])**2\n",
    "        c_ = (log_data[i+1][0] - g[0])**2 + (log_data[i+1][1] - g[1])**2\n",
    "        new_datum = [s, u, s_, c, c_]\n",
    "        new_data.append(new_datum)\n",
    "    return new_data"
   ]
  },
  {
   "cell_type": "code",
   "execution_count": 7,
   "metadata": {
    "scrolled": false
   },
   "outputs": [],
   "source": [
    "def plot_gz_data(new_data):\n",
    "    plt.figure()\n",
    "    plt.title(r\"Full State ($s$)\")\n",
    "    plt.plot([s[0][0,0] for s in new_data], label='x1')\n",
    "    plt.plot([s[0][1,0] for s in new_data], label='y1')\n",
    "    plt.plot([s[0][2,0] for s in new_data], label='x2')\n",
    "    plt.plot([s[0][3,0] for s in new_data], label='y2')\n",
    "    plt.ylabel(\"meters\")\n",
    "    plt.xlabel(\"time (s)\")\n",
    "    plt.legend();\n",
    "\n",
    "    plt.figure()\n",
    "    plt.title(r\"Control Input ($u$)\")\n",
    "    plt.plot([s[1][0,0] for s in new_data], label='vx')\n",
    "    plt.plot([s[1][1,0] for s in new_data], label='vy')\n",
    "    plt.ylabel(\"m/s\")\n",
    "    plt.xlabel(\"time (s)\")\n",
    "    plt.legend();\n",
    "\n",
    "    plt.figure()\n",
    "    plt.title(r\"Cost ($c$)\")\n",
    "    plt.plot([s[4] for s in new_data])\n",
    "    plt.xlabel(\"time (s)\");\n",
    "    \n",
    "    plt.show()"
   ]
  }
 ],
 "metadata": {
  "kernelspec": {
   "display_name": "Python 3",
   "language": "python",
   "name": "python3"
  },
  "language_info": {
   "codemirror_mode": {
    "name": "ipython",
    "version": 3
   },
   "file_extension": ".py",
   "mimetype": "text/x-python",
   "name": "python",
   "nbconvert_exporter": "python",
   "pygments_lexer": "ipython3",
   "version": "3.5.2"
  }
 },
 "nbformat": 4,
 "nbformat_minor": 2
}
