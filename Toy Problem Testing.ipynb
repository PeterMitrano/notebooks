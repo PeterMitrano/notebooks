{
 "cells": [
  {
   "cell_type": "code",
   "execution_count": 1,
   "metadata": {},
   "outputs": [],
   "source": [
    "import numpy as np\n",
    "import matplotlib.pyplot as plt\n",
    "np.set_printoptions(suppress=True, precision=2)"
   ]
  },
  {
   "cell_type": "markdown",
   "metadata": {},
   "source": [
    "# Define goal\n",
    "\n",
    "Our goal will be denoted as $g$, and in this case $g=(5,0)$"
   ]
  },
  {
   "cell_type": "code",
   "execution_count": 2,
   "metadata": {},
   "outputs": [],
   "source": [
    "g = np.array([5, 0])"
   ]
  },
  {
   "cell_type": "markdown",
   "metadata": {},
   "source": [
    "# Collect Initial Data\n",
    "\n",
    "Let's pretend our data comes from pulling a 2-link object to the right for 6 time steps"
   ]
  },
  {
   "cell_type": "code",
   "execution_count": 3,
   "metadata": {},
   "outputs": [
    {
     "name": "stdout",
     "output_type": "stream",
     "text": [
      "s =\n",
      " [[0 0 1 0 2 0]\n",
      " [1 0 2 0 3 0]\n",
      " [2 0 3 0 4 0]\n",
      " [3 0 4 0 5 0]\n",
      " [4 0 5 0 6 0]\n",
      " [5 0 6 0 7 0]]\n",
      "a =\n",
      " [[1 0]\n",
      " [1 0]\n",
      " [1 0]\n",
      " [1 0]\n",
      " [1 0]\n",
      " [1 0]]\n"
     ]
    }
   ],
   "source": [
    "s = np.array([[0,0,1,0,2,0],[1,0,2,0,3,0],[2,0,3,0,4,0],[3,0,4,0,5,0],[4,0,5,0,6,0],[5,0,6,0,7,0]])\n",
    "a = np.array([[1,0], [1,0], [1,0], [1,0], [1,0], [1,0]])\n",
    "D = [(s_t, a_t) for s_t, a_t in zip(s, a)]\n",
    "print('s =\\n', s)\n",
    "print('a =\\n', a)"
   ]
  },
  {
   "cell_type": "markdown",
   "metadata": {},
   "source": [
    "# Fit Model Reduction w/ PCA"
   ]
  },
  {
   "cell_type": "code",
   "execution_count": 4,
   "metadata": {},
   "outputs": [
    {
     "name": "stdout",
     "output_type": "stream",
     "text": [
      "z =\n",
      " [[-2.5  0.  -2.5  0.  -2.5  0. ]\n",
      " [-1.5  0.  -1.5  0.  -1.5  0. ]\n",
      " [-0.5  0.  -0.5  0.  -0.5  0. ]\n",
      " [ 0.5  0.   0.5  0.   0.5  0. ]\n",
      " [ 1.5  0.   1.5  0.   1.5  0. ]\n",
      " [ 2.5  0.   2.5  0.   2.5  0. ]]\n",
      "P* =\n",
      " [[0.58]\n",
      " [0.  ]\n",
      " [0.58]\n",
      " [0.  ]\n",
      " [0.58]\n",
      " [0.  ]]\n",
      "o =\n",
      " [[-4.33]\n",
      " [-2.6 ]\n",
      " [-0.87]\n",
      " [ 0.87]\n",
      " [ 2.6 ]\n",
      " [ 4.33]]\n"
     ]
    }
   ],
   "source": [
    "s_bar = s.mean(axis=0)\n",
    "z = (s - s_bar)\n",
    "D, P = np.linalg.eig(z.T@z)\n",
    "k=1\n",
    "idx = D.argsort()[-k:][::-1]   \n",
    "P_star = P[:,idx]\n",
    "o = z @ P_star\n",
    "\n",
    "print('z =\\n', z)\n",
    "print('P* =\\n', P_star)\n",
    "print(\"o =\\n\", o)"
   ]
  },
  {
   "cell_type": "markdown",
   "metadata": {},
   "source": [
    "We can see here that in fact the covariance matrix of our data has only one eigenvector with non-zero eigen values, which is what we expect because all of the coordinates can be represented as one number. The resulting number (each row in $o$) is not actually the x coordinate of the first link, but it's proportional to it. This still has the property that the dynamics are linear, which is what we want."
   ]
  },
  {
   "cell_type": "markdown",
   "metadata": {},
   "source": [
    "# Fit Linear Dynamics with Least-Squares\n",
    "\n",
    "Our dynamics $T(o_t, a_t) \\rightarrow \\dot{o}_t$ take the form:\n",
    "\n",
    "$$\\begin{bmatrix}o_t & v_x & v_y\\end{bmatrix} b = \\dot{o}_t$$\n",
    "$$\\begin{bmatrix}o_t & v_x & v_y\\end{bmatrix} \\begin{bmatrix}b_1 \\\\ b_2 \\\\ b_3\\end{bmatrix} = \\dot{o}_t$$\n",
    "\n",
    "We can find the least squares solution to this. Our values of $\\dot{o}_t$ come from computing $o_{t+1} - o_t$."
   ]
  },
  {
   "cell_type": "code",
   "execution_count": 18,
   "metadata": {},
   "outputs": [
    {
     "name": "stdout",
     "output_type": "stream",
     "text": [
      "b =\n",
      " [[-0.  ]\n",
      " [ 1.73]\n",
      " [ 0.  ]]\n"
     ]
    }
   ],
   "source": [
    "o_dot = (o[1:] - o[:-1])\n",
    "ov = np.hstack((o, a))[:-1,:]\n",
    "b, res, _, __ = np.linalg.lstsq(ov, o_dot, rcond=None)\n",
    "print('b =\\n', b)\n"
   ]
  },
  {
   "cell_type": "markdown",
   "metadata": {},
   "source": [
    "# Fit the Cost Function with Least-Squares\n",
    "\n",
    "In our toy problem the distance is just the error in x.\n",
    "\n",
    "Our cost function estimator $c(o_t) \\rightarrow \\hat{c_t}$ takes the form\n",
    "\n",
    "$$ O*C  = \\hat{c_t} $$\n",
    "$$ \\begin{bmatrix}o_t & 1\\end{bmatrix} \\begin{bmatrix}c_1 \\\\ c_2\\end{bmatrix}  = \\hat{c_t} $$"
   ]
  },
  {
   "cell_type": "code",
   "execution_count": 6,
   "metadata": {},
   "outputs": [
    {
     "name": "stdout",
     "output_type": "stream",
     "text": [
      "c(s_t) =\n",
      " [[5]\n",
      " [4]\n",
      " [3]\n",
      " [2]\n",
      " [1]\n",
      " [0]]\n",
      "C =\n",
      " [[-0.58]\n",
      " [ 2.5 ]]\n"
     ]
    }
   ],
   "source": [
    "c = np.expand_dims(np.sum(g - s[:,:2], axis=1), axis=0).T\n",
    "print('c(s_t) =\\n', c)\n",
    "O = np.hstack((o, np.ones(o.shape)))\n",
    "C, res, _, __ = np.linalg.lstsq(O, c, rcond=None)\n",
    "print('C =\\n', C)"
   ]
  },
  {
   "cell_type": "markdown",
   "metadata": {},
   "source": [
    "as we would expect, the cost can be perfectly recovered from the presentation by computing $o_t * -0.58 + 2.5 = c(s_t)$"
   ]
  },
  {
   "cell_type": "markdown",
   "metadata": {},
   "source": [
    "# Plan!\n",
    "\n",
    "Now that we have learned representation, dynamics, and cost, we can plan to reach the goal. Because in this toy problem all of these functions are perfect (no error in predicting future representation or future cost), our plans should also be perfect. The perfect plan is to take the action of $[1, 0]$ for 5 time steps.\n",
    "\n",
    "Because we assume know obstacles, and our dynamics are linear, we can directly solve for a one-step plan (single control action) to take us from start to goal). This is simply an under-determined linear system, where $o_t$, $b$, and $\\dot{o}_t$ are known and we want to solve for $v_x$ and $v_y$."
   ]
  },
  {
   "cell_type": "code",
   "execution_count": 20,
   "metadata": {},
   "outputs": [
    {
     "ename": "ValueError",
     "evalue": "operands could not be broadcast together with shapes (2,) (6,) ",
     "output_type": "error",
     "traceback": [
      "\u001b[0;31m---------------------------------------------------------------------------\u001b[0m",
      "\u001b[0;31mValueError\u001b[0m                                Traceback (most recent call last)",
      "\u001b[0;32m<ipython-input-20-4af61dce6401>\u001b[0m in \u001b[0;36m<module>\u001b[0;34m()\u001b[0m\n\u001b[1;32m      1\u001b[0m \u001b[0ms_0\u001b[0m \u001b[0;34m=\u001b[0m \u001b[0mnp\u001b[0m\u001b[0;34m.\u001b[0m\u001b[0marray\u001b[0m\u001b[0;34m(\u001b[0m\u001b[0;34m[\u001b[0m\u001b[0;34m[\u001b[0m\u001b[0;36m0\u001b[0m\u001b[0;34m,\u001b[0m \u001b[0;36m0\u001b[0m\u001b[0;34m,\u001b[0m \u001b[0;36m1\u001b[0m\u001b[0;34m,\u001b[0m \u001b[0;36m0\u001b[0m\u001b[0;34m,\u001b[0m \u001b[0;36m2\u001b[0m\u001b[0;34m,\u001b[0m \u001b[0;36m0\u001b[0m\u001b[0;34m]\u001b[0m\u001b[0;34m]\u001b[0m\u001b[0;34m)\u001b[0m\u001b[0;34m\u001b[0m\u001b[0m\n\u001b[1;32m      2\u001b[0m \u001b[0mo_0\u001b[0m \u001b[0;34m=\u001b[0m \u001b[0;34m(\u001b[0m\u001b[0ms_0\u001b[0m \u001b[0;34m-\u001b[0m \u001b[0ms_bar\u001b[0m\u001b[0;34m)\u001b[0m \u001b[0;34m@\u001b[0m \u001b[0mP_star\u001b[0m\u001b[0;34m\u001b[0m\u001b[0m\n\u001b[0;32m----> 3\u001b[0;31m \u001b[0mo_g\u001b[0m \u001b[0;34m=\u001b[0m \u001b[0;34m(\u001b[0m\u001b[0mg\u001b[0m \u001b[0;34m-\u001b[0m \u001b[0ms_bar\u001b[0m\u001b[0;34m)\u001b[0m \u001b[0;34m@\u001b[0m \u001b[0mP_star\u001b[0m\u001b[0;34m\u001b[0m\u001b[0m\n\u001b[0m\u001b[1;32m      4\u001b[0m \u001b[0mo_dot_0\u001b[0m \u001b[0;34m=\u001b[0m \u001b[0mo_g\u001b[0m \u001b[0;34m-\u001b[0m \u001b[0mo_0\u001b[0m\u001b[0;34m\u001b[0m\u001b[0m\n\u001b[1;32m      5\u001b[0m \u001b[0;34m\u001b[0m\u001b[0m\n",
      "\u001b[0;31mValueError\u001b[0m: operands could not be broadcast together with shapes (2,) (6,) "
     ]
    }
   ],
   "source": [
    "s_0 = np.array([[0, 0, 1, 0, 2, 0]])\n",
    "o_0 = (s_0 - s_bar) @ P_star\n",
    "o_g = (g - s_bar) @ P_star\n",
    "o_dot_0 = o_g - o_0\n",
    "\n",
    "ov, res, _, __ = np.linalg.lstsq(b.T, o_dot_0, rcond=None)\n",
    "print(o_dot_0)\n",
    "plan = np.array([[ov[1], ov[2]]])\n",
    "print(plan)\n",
    "\n",
    "o_t = o_0\n",
    "for t, planned_action in enumerate(plan):\n",
    "    o_t_next = o_t + np.vstack((o_t, np.expand_dims(planned_action, axis=1))).T @ b\n",
    "    c_hat_t = np.hstack((o_t_next, np.ones(o_t.shape))) @ C\n",
    "    o_t = o_t_next\n",
    "    print(o_t_next, c_hat_t)\n",
    "    # We would execute the first action of this plan in our simulator,\n",
    "    # then get a new state transition pair, re-train everything,\n",
    "    # then replan, and repeat..."
   ]
  },
  {
   "cell_type": "markdown",
   "metadata": {},
   "source": [
    "Ok so this works perfectly. So now what happens when we change the goal? Let the goal have non-zero y value.\n",
    "\n",
    "$$ g = (3,1) $$\n",
    "\n",
    "Everything will be the same as above (our first action will be [1,0] since the goal still has positive x, and our dynamics know how to move us in x. But now when we get to the step of fitting our cost, there will be an issue. We can no longer fit a simply line to our cost if our model reduction ignores the y coordinate...\n",
    "\n",
    "Note to self: if we did PCA on initial data where the pull was not just to the right, PCA would still try to explain the y motion a bit too so we won't get a pure, clean, reduction to $[x_1, y_1, 0, 0, 0, 0]$"
   ]
  }
 ],
 "metadata": {
  "kernelspec": {
   "display_name": "Python 3",
   "language": "python",
   "name": "python3"
  },
  "language_info": {
   "codemirror_mode": {
    "name": "ipython",
    "version": 3
   },
   "file_extension": ".py",
   "mimetype": "text/x-python",
   "name": "python",
   "nbconvert_exporter": "python",
   "pygments_lexer": "ipython3",
   "version": "3.6.5"
  }
 },
 "nbformat": 4,
 "nbformat_minor": 2
}
